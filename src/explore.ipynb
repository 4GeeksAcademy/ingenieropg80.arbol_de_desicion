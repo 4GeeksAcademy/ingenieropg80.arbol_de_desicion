{
    "cells": [
        {
            "cell_type": "markdown",
            "metadata": {},
            "source": [
                "# Explore here"
            ]
        },
        {
            "cell_type": "code",
            "execution_count": 3,
            "metadata": {},
            "outputs": [],
            "source": [
                "import pandas as pd\n",
                "import matplotlib.pyplot as plt\n",
                "import seaborn as sns\n",
                "import numpy as np \n",
                "from sklearn.preprocessing import StandardScaler\n",
                "from sklearn.preprocessing import MinMaxScaler\n",
                "from sklearn.model_selection import train_test_split\n",
                "from sklearn.linear_model import LinearRegression\n",
                "from sklearn.linear_model import Lasso\n",
                "from sklearn.metrics import mean_squared_error\n",
                "import math\n",
                "import utils as eda\n",
                "from sklearn.metrics import r2_score\n",
                "from sklearn.linear_model import Ridge\n",
                "from sklearn.datasets import load_iris\n",
                "from sklearn.tree import DecisionTreeClassifier\n",
                "from pickle import dump"
            ]
        },
        {
            "cell_type": "code",
            "execution_count": 4,
            "metadata": {},
            "outputs": [
                {
                    "ename": "SyntaxError",
                    "evalue": "invalid decimal literal (4235533426.py, line 1)",
                    "output_type": "error",
                    "traceback": [
                        "  \u001b[36mCell\u001b[39m\u001b[36m \u001b[39m\u001b[32mIn[4]\u001b[39m\u001b[32m, line 1\u001b[39m\n\u001b[31m    \u001b[39m\u001b[31murl =https://raw.githubusercontent.com/4GeeksAcademy/decision-tree-project-tutorial/main/diabetes.csv\u001b[39m\n                                           ^\n\u001b[31mSyntaxError\u001b[39m\u001b[31m:\u001b[39m invalid decimal literal\n"
                    ]
                }
            ],
            "source": [
                "url =https://raw.githubusercontent.com/4GeeksAcademy/decision-tree-project-tutorial/main/diabetes.csv\n",
                "total_data = pd.read_csv(url)  \n",
                "\n",
                "total_data.head()"
            ]
        },
        {
            "cell_type": "code",
            "execution_count": null,
            "metadata": {},
            "outputs": [],
            "source": [
                "VERIFICAR DUPILCADOS \n",
                "VERIFICAR COLUMNAS CON 0\n",
                "VERIFICAR NULL\n"
            ]
        },
        {
            "cell_type": "code",
            "execution_count": null,
            "metadata": {},
            "outputs": [],
            "source": []
        },
        {
            "cell_type": "code",
            "execution_count": null,
            "metadata": {},
            "outputs": [],
            "source": [
                "# ANALISIS VARIABLES NUMERICAS\n",
                "\n",
                "eda plot_numerical_data(total_data)\n"
            ]
        },
        {
            "cell_type": "code",
            "execution_count": null,
            "metadata": {},
            "outputs": [],
            "source": [
                "# MAPA DE DE CORRELACION EN VARIABLES NUMENICAS\n",
                "eda.heatmap_correlation(total_data)"
            ]
        },
        {
            "cell_type": "code",
            "execution_count": null,
            "metadata": {},
            "outputs": [],
            "source": [
                "#ANALISIS VARIABLES CATEGORICAS\n",
                "eda.plot_categorical_data(total_data)"
            ]
        },
        {
            "cell_type": "code",
            "execution_count": null,
            "metadata": {},
            "outputs": [],
            "source": [
                "#CORRELACION ENTRE VARIABLES NUMERICAS Y LA TARGET\n",
                "eda.correlation_num_target(total_data, target)"
            ]
        },
        {
            "cell_type": "code",
            "execution_count": null,
            "metadata": {},
            "outputs": [],
            "source": [
                "# DATASET TOTAL_DATA SIN OUTLAIERS\n",
                "\n",
                "total_data_no_outliers=total_data.copy()\n",
                "\n",
                "def adjust_outliers(data, target):\n",
                "    df_adj = data.copy()\n",
                "    numeric_cols = df_adj.select_dtypes(include=['float64', 'int64']).columns.drop(target)\n",
                "    for col in numeric_cols:\n",
                "        Q1 = df_adj[col].quantile(0.25)\n",
                "        Q3 = df_adj[col].quantile(0.75)\n",
                "        IQR = Q3 - Q1\n",
                "        lower_bound = Q1 - 1.5 * IQR\n",
                "        upper_bound = Q3 + 1.5 * IQR\n",
                "        df_adj[col] = np.where(df_adj[col] < lower_bound, lower_bound, df_adj[col])\n",
                "        df_adj[col] = np.where(df_adj[col] > upper_bound, upper_bound, df_adj[col])\n",
                "    return df_adj\n",
                "\n",
                "total_data_no_outliers = adjust_outliers(total_data, target='charges')\n",
                "total_data_no_outliers.head"
            ]
        },
        {
            "cell_type": "code",
            "execution_count": null,
            "metadata": {},
            "outputs": [],
            "source": [
                "# DATASET TOTAL_DATA CON OUTLAIERS FACTORIZADO\n",
                "total_data_factorized = total_data.copy()\n",
                "\n",
                "for col in no_numericas:\n",
                "    total_data_factorized[col] = total_data_factorized[col].astype('category').cat.codes\n",
                "\n",
                "total_data_factorized.head"
            ]
        },
        {
            "cell_type": "code",
            "execution_count": null,
            "metadata": {},
            "outputs": [],
            "source": [
                "#DATASET TOTAL_DATA SIN OUTLAIERS FACTORIZADO\n",
                "total_data_no_outliers_factorized = total_data_no_outliers.copy()\n",
                "\n",
                "for col in no_numericas:\n",
                "   total_data_no_outliers_factorized[col] = total_data_no_outliers_factorized[col].astype('category').cat.codes\n",
                "\n",
                "total_data_no_outliers_factorized.head\n"
            ]
        },
        {
            "cell_type": "code",
            "execution_count": null,
            "metadata": {},
            "outputs": [],
            "source": []
        }
    ],
    "metadata": {
        "kernelspec": {
            "display_name": "Python 3",
            "language": "python",
            "name": "python3"
        },
        "language_info": {
            "codemirror_mode": {
                "name": "ipython",
                "version": 3
            },
            "file_extension": ".py",
            "mimetype": "text/x-python",
            "name": "python",
            "nbconvert_exporter": "python",
            "pygments_lexer": "ipython3",
            "version": "3.12.10"
        },
        "orig_nbformat": 4
    },
    "nbformat": 4,
    "nbformat_minor": 2
}
